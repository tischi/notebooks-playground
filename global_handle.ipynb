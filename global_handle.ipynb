{
 "cells": [
  {
   "cell_type": "code",
   "execution_count": 160,
   "metadata": {},
   "outputs": [],
   "source": [
    "%matplotlib inline\n",
    "from matplotlib import pyplot as plt\n",
    "import ipywidgets as widgets\n",
    "from ipywidgets import HBox, VBox\n",
    "from ipywidgets import interact, interactive, fixed, interact_manual\n",
    "import numpy as np\n",
    "import matplotlib.pyplot as plt\n",
    "from IPython.display import display\n",
    "import skimage\n",
    "from skimage.viewer import ImageViewer\n",
    "import sys\n",
    "import numpy as np\n",
    "from matplotlib import pyplot as plt\n",
    "\n",
    "# TODO: Convert to web-link\n",
    "path = \"/Users/tischer/Documents/notebooks-playground/data/blobs_000.tif\"\n",
    "\n",
    "input_image = skimage.io.imread(fname = path)\n",
    "\n",
    "h = {}\n",
    "h['images'] = {\"input_image\": input_image}\n",
    "h['batch_mode'] = False"
   ]
  },
  {
   "cell_type": "code",
   "execution_count": 163,
   "metadata": {},
   "outputs": [],
   "source": [
    "def blur_core(h, module_id, input_image_key, sigma, show_output):\n",
    "    input_image = h['images'].get(input_image_key)\n",
    "    # compute\n",
    "    blurred_image = skimage.filters.gaussian(input_image, sigma=(sigma, sigma), multichannel=True)\n",
    "    # store parameters and output\n",
    "    h['images'][module_id] = blurred_image\n",
    "    h[module_id] = {}\n",
    "    h[module_id]['sigma'] = sigma\n",
    "    h[module_id]['input_image_key'] = input_image_key\n",
    "    h[module_id]['output_image_key'] = module_id\n",
    "    # show output\n",
    "    if show_output:\n",
    "        plt.imshow(blurred_image, cmap='gray')\n",
    "    \n",
    "def blur(h, module_id):\n",
    "    if h['batch_mode']:\n",
    "        if not module_id in h.keys():\n",
    "            # throw an error\n",
    "        input_image_key = h[module_id]['input_image_key']    \n",
    "        sigma = h[module_id].get('sigma')\n",
    "        return blur_core(h, module_id, input_image_key, sigma, show_output = False)\n",
    "    else:\n",
    "        # TODO: deal with default values\n",
    "        return interactive(blur_core, \n",
    "                           h = fixed(h),\n",
    "                           module_id = fixed(module_id), \n",
    "                           input_image_key = widgets.Dropdown(options=h['images'].keys()), \n",
    "                           sigma = widgets.IntSlider(min=0, max=50, step=1),\n",
    "                           show_output = fixed(True))"
   ]
  },
  {
   "cell_type": "markdown",
   "metadata": {},
   "source": [
    "## Blur an image\n",
    "If `h['batch_mode'] = False` it will show an interactive UI.\n",
    "\n",
    "If `h['batch_mode'] = True` it will just do its job, using the paramteres configured with the interactive UI."
   ]
  },
  {
   "cell_type": "code",
   "execution_count": 168,
   "metadata": {},
   "outputs": [
    {
     "data": {
      "application/vnd.jupyter.widget-view+json": {
       "model_id": "19a756e1fe63434282c898c42a1470e3",
       "version_major": 2,
       "version_minor": 0
      },
      "text/plain": [
       "interactive(children=(Dropdown(description='input_image_key', options=('input_image', 'first_blur'), value='in…"
      ]
     },
     "metadata": {},
     "output_type": "display_data"
    }
   ],
   "source": [
    "blur(h, \"blurred_input\")"
   ]
  },
  {
   "cell_type": "code",
   "execution_count": 175,
   "metadata": {},
   "outputs": [
    {
     "name": "stdout",
     "output_type": "stream",
     "text": [
      "dict_keys(['images', 'batch_mode', 'first_blur', 'blurred_input'])\n",
      "dict_keys(['input_image', 'first_blur', 'blurred_input'])\n",
      "dict_keys(['sigma', 'input_image_key', 'output_image_key'])\n"
     ]
    },
    {
     "data": {
      "text/plain": [
       "<matplotlib.image.AxesImage at 0x1c270fecf8>"
      ]
     },
     "execution_count": 175,
     "metadata": {},
     "output_type": "execute_result"
    },
    {
     "data": {
      "image/png": "[encoded data removed]",
      "text/plain": [
       "<Figure size 432x288 with 1 Axes>"
      ]
     },
     "metadata": {
      "needs_background": "light"
     },
     "output_type": "display_data"
    }
   ],
   "source": [
    "print(h.keys())\n",
    "print(h['images'].keys())\n",
    "print(h['blurred_input'].keys())\n",
    "plt.imshow(h['images']['blurred_input'], cmap='gray')"
   ]
  },
  {
   "cell_type": "code",
   "execution_count": null,
   "metadata": {},
   "outputs": [],
   "source": []
  }
 ],
 "metadata": {
  "kernelspec": {
   "display_name": "Python 3",
   "language": "python",
   "name": "python3"
  },
  "language_info": {
   "codemirror_mode": {
    "name": "ipython",
    "version": 3
   },
   "file_extension": ".py",
   "mimetype": "text/x-python",
   "name": "python",
   "nbconvert_exporter": "python",
   "pygments_lexer": "ipython3",
   "version": "3.6.9"
  }
 },
 "nbformat": 4,
 "nbformat_minor": 2
}
