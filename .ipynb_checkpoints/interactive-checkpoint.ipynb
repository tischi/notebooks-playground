{
 "cells": [
  {
   "cell_type": "code",
   "execution_count": 132,
   "metadata": {},
   "outputs": [],
   "source": [
    "%matplotlib inline\n",
    "from matplotlib import pyplot as plt\n",
    "import ipywidgets as widgets\n",
    "from ipywidgets import HBox, VBox\n",
    "from ipywidgets import interact, interactive, fixed, interact_manual\n",
    "import numpy as np\n",
    "import matplotlib.pyplot as plt\n",
    "from IPython.display import display\n",
    "import skimage\n",
    "from skimage.viewer import ImageViewer\n",
    "import sys\n",
    "import numpy as np\n",
    "from matplotlib import pyplot as plt\n",
    "\n",
    "# TODO: Convert to web-link\n",
    "path = \"/Users/tischer/Documents/notebooks-playground/data/blobs_000.tif\"\n",
    "\n",
    "image = skimage.io.imread(fname = path)\n",
    "sigma = 10\n",
    "\n",
    "# TODO:\n",
    "# - how to return something from interact within the same cell??\n",
    "# - how to set the initial value to the previously chosen one?\n",
    "\n",
    "def blur_core(image, sigma):\n",
    "    blurred_image = skimage.filters.gaussian(image, sigma=(sigma, sigma), multichannel=True)\n",
    "    plt.imshow(blurred_image, cmap='gray')\n",
    "    return blurred_image, sigma\n",
    "    \n",
    "def blur(image, sigma, batch_mode):\n",
    "    if batch_mode:\n",
    "        return blur_core(image, sigma = sigma)\n",
    "    else:\n",
    "        return interactive(blur_core, image=fixed(image), sigma=widgets.IntSlider(min=0, max=50, step=1, value=sigma))"
   ]
  },
  {
   "cell_type": "code",
   "execution_count": 142,
   "metadata": {},
   "outputs": [
    {
     "data": {
      "application/vnd.jupyter.widget-view+json": {
       "model_id": "8f5b4d826ffa488388110c58cae240d2",
       "version_major": 2,
       "version_minor": 0
      },
      "text/plain": [
       "interactive(children=(IntSlider(value=10, description='sigma', max=50), Output()), _dom_classes=('widget-inter…"
      ]
     },
     "metadata": {},
     "output_type": "display_data"
    }
   ],
   "source": [
    "x = blur(image, sigma, False)\n",
    "display(x)\n",
    "a = x.result[0]\n",
    "sigma = x.result[1] # TODO: this line is never reached"
   ]
  },
  {
   "cell_type": "code",
   "execution_count": 144,
   "metadata": {},
   "outputs": [
    {
     "data": {
      "text/plain": [
       "10"
      ]
     },
     "execution_count": 144,
     "metadata": {},
     "output_type": "execute_result"
    }
   ],
   "source": [
    "sigma"
   ]
  },
  {
   "cell_type": "code",
   "execution_count": null,
   "metadata": {},
   "outputs": [],
   "source": []
  }
 ],
 "metadata": {
  "kernelspec": {
   "display_name": "Python 3",
   "language": "python",
   "name": "python3"
  },
  "language_info": {
   "codemirror_mode": {
    "name": "ipython",
    "version": 3
   },
   "file_extension": ".py",
   "mimetype": "text/x-python",
   "name": "python",
   "nbconvert_exporter": "python",
   "pygments_lexer": "ipython3",
   "version": "3.6.9"
  }
 },
 "nbformat": 4,
 "nbformat_minor": 2
}
